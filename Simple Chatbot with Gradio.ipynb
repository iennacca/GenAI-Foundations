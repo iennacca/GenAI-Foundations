{
 "cells": [
  {
   "cell_type": "markdown",
   "id": "5b4503b2-7a1f-441f-a8ae-270ab599aa42",
   "metadata": {},
   "source": [
    "Chatbot Language Model"
   ]
  },
  {
   "cell_type": "code",
   "execution_count": null,
   "id": "d4f6241e-1286-4fbd-be6d-897a87ba80cb",
   "metadata": {},
   "outputs": [
    {
     "name": "stderr",
     "output_type": "stream",
     "text": [
      "/Users/robbarto/Library/Python/3.9/lib/python/site-packages/urllib3/__init__.py:35: NotOpenSSLWarning: urllib3 v2 only supports OpenSSL 1.1.1+, currently the 'ssl' module is compiled with 'LibreSSL 2.8.3'. See: https://github.com/urllib3/urllib3/issues/3020\n",
      "  warnings.warn(\n",
      "2024-07-08 12:47:00.759303: I tensorflow/core/platform/cpu_feature_guard.cc:182] This TensorFlow binary is optimized to use available CPU instructions in performance-critical operations.\n",
      "To enable the following instructions: AVX2 AVX512F AVX512_VNNI FMA, in other operations, rebuild TensorFlow with the appropriate compiler flags.\n",
      "/Users/robbarto/Library/Python/3.9/lib/python/site-packages/torch/_utils.py:776: UserWarning: TypedStorage is deprecated. It will be removed in the future and UntypedStorage will be the only storage class. This should only matter to you if you are using storages directly.  To access UntypedStorage directly, use tensor.untyped_storage() instead of tensor.storage()\n",
      "  return self.fget.__get__(instance, owner)()\n"
     ]
    }
   ],
   "source": [
    "from transformers import pipeline\n",
    "\n",
    "chatbot = pipeline(\"text2text-generation\", model=\"facebook/blenderbot-400M-distill\")"
   ]
  },
  {
   "cell_type": "code",
   "execution_count": 2,
   "id": "95fc0a63-1f6e-4b1a-b2c7-c0e4359a5c2d",
   "metadata": {},
   "outputs": [],
   "source": [
    "conversation = chatbot(\"What have you been up to\")"
   ]
  },
  {
   "cell_type": "code",
   "execution_count": 3,
   "id": "21e55f90-fbc2-4468-ab21-dfacaa83028f",
   "metadata": {
    "scrolled": true
   },
   "outputs": [
    {
     "data": {
      "text/plain": [
       "[{'generated_text': \" Just hanging out with my dog. He's my best friend and I love spending time with him.\"}]"
      ]
     },
     "execution_count": 3,
     "metadata": {},
     "output_type": "execute_result"
    }
   ],
   "source": [
    "conversation"
   ]
  },
  {
   "cell_type": "code",
   "execution_count": 4,
   "id": "1b876dd0-3b56-4208-9c7c-a91eb5811b91",
   "metadata": {},
   "outputs": [],
   "source": [
    "conversation = chatbot(\"I'm more of a cat person. How do you feel about cats?\")"
   ]
  },
  {
   "cell_type": "code",
   "execution_count": 5,
   "id": "bd38c2fd-0a24-4c43-b5af-d2acc6056bf2",
   "metadata": {},
   "outputs": [
    {
     "data": {
      "text/plain": [
       "[{'generated_text': \" I love cats! I have two of my own and they're the best pets ever.\"}]"
      ]
     },
     "execution_count": 5,
     "metadata": {},
     "output_type": "execute_result"
    }
   ],
   "source": [
    "conversation"
   ]
  },
  {
   "cell_type": "code",
   "execution_count": null,
   "id": "b6b57364-11a0-4884-aae9-76ecba750da3",
   "metadata": {},
   "outputs": [],
   "source": [
    "conversation = chatbot(\"Do you like movies?\")"
   ]
  },
  {
   "cell_type": "code",
   "execution_count": null,
   "id": "90dc4b1a-b445-4c0d-91cd-74a392d48399",
   "metadata": {},
   "outputs": [],
   "source": [
    "conversation"
   ]
  },
  {
   "cell_type": "markdown",
   "id": "d8306736-faa4-4091-856a-9827ba11e734",
   "metadata": {},
   "source": [
    "Chatbot using Gradio"
   ]
  },
  {
   "cell_type": "code",
   "execution_count": 6,
   "id": "47911424-73cf-454f-a80f-c257bf9b474f",
   "metadata": {},
   "outputs": [
    {
     "name": "stdout",
     "output_type": "stream",
     "text": [
      "Running on local URL:  http://127.0.0.1:7860\n",
      "\n",
      "To create a public link, set `share=True` in `launch()`.\n"
     ]
    },
    {
     "data": {
      "text/html": [
       "<div><iframe src=\"http://127.0.0.1:7860/\" width=\"100%\" height=\"500\" allow=\"autoplay; camera; microphone; clipboard-read; clipboard-write;\" frameborder=\"0\" allowfullscreen></iframe></div>"
      ],
      "text/plain": [
       "<IPython.core.display.HTML object>"
      ]
     },
     "metadata": {},
     "output_type": "display_data"
    },
    {
     "data": {
      "text/plain": []
     },
     "execution_count": 6,
     "metadata": {},
     "output_type": "execute_result"
    },
    {
     "name": "stdout",
     "output_type": "stream",
     "text": [
      "IMPORTANT: You are using gradio version 4.28.3, however version 4.29.0 is available, please upgrade.\n",
      "--------\n"
     ]
    }
   ],
   "source": [
    "import gradio as gr\n",
    "\n",
    "message_list = []\n",
    "response_list = []\n",
    "\n",
    "def favourite_chatbot(message, history):\n",
    "    conversation = chatbot(message)\n",
    "    \n",
    "    return conversation[0]['generated_text']\n",
    "\n",
    "demo_chatbot = gr.ChatInterface(favourite_chatbot, title=\"Favourite Chatbot\", description=\"Enter text to start chatting.\")\n",
    "\n",
    "demo_chatbot.launch()"
   ]
  },
  {
   "cell_type": "code",
   "execution_count": null,
   "id": "ae22f876-7761-4f0a-a71f-5008d3129351",
   "metadata": {},
   "outputs": [],
   "source": []
  }
 ],
 "metadata": {
  "kernelspec": {
   "display_name": "Python 3 (ipykernel)",
   "language": "python",
   "name": "python3"
  },
  "language_info": {
   "codemirror_mode": {
    "name": "ipython",
    "version": 3
   },
   "file_extension": ".py",
   "mimetype": "text/x-python",
   "name": "python",
   "nbconvert_exporter": "python",
   "pygments_lexer": "ipython3",
   "version": "3.9.6"
  }
 },
 "nbformat": 4,
 "nbformat_minor": 5
}
