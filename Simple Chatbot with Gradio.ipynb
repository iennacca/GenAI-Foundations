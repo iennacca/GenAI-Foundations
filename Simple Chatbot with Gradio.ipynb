{
 "cells": [
  {
   "cell_type": "markdown",
   "id": "5b4503b2-7a1f-441f-a8ae-270ab599aa42",
   "metadata": {},
   "source": [
    "Chatbot Language Model"
   ]
  },
  {
   "cell_type": "code",
   "execution_count": null,
   "id": "d4f6241e-1286-4fbd-be6d-897a87ba80cb",
   "metadata": {},
   "outputs": [],
   "source": [
    "from transformers import pipeline\n",
    "\n",
    "chatbot = pipeline(\"text2text-generation\", model=\"facebook/blenderbot-400M-distill\")"
   ]
  },
  {
   "cell_type": "code",
   "execution_count": null,
   "id": "95fc0a63-1f6e-4b1a-b2c7-c0e4359a5c2d",
   "metadata": {},
   "outputs": [],
   "source": [
    "conversation = chatbot(\"What have you been up to\")"
   ]
  },
  {
   "cell_type": "code",
   "execution_count": null,
   "id": "21e55f90-fbc2-4468-ab21-dfacaa83028f",
   "metadata": {
    "scrolled": true
   },
   "outputs": [],
   "source": [
    "conversation"
   ]
  },
  {
   "cell_type": "code",
   "execution_count": null,
   "id": "1b876dd0-3b56-4208-9c7c-a91eb5811b91",
   "metadata": {},
   "outputs": [],
   "source": [
    "conversation = chatbot(\"I'm more of a cat person. How do you feel about cats?\")"
   ]
  },
  {
   "cell_type": "code",
   "execution_count": null,
   "id": "bd38c2fd-0a24-4c43-b5af-d2acc6056bf2",
   "metadata": {},
   "outputs": [],
   "source": [
    "conversation"
   ]
  },
  {
   "cell_type": "code",
   "execution_count": null,
   "id": "b6b57364-11a0-4884-aae9-76ecba750da3",
   "metadata": {},
   "outputs": [],
   "source": [
    "conversation = chatbot(\"Do you like movies?\")"
   ]
  },
  {
   "cell_type": "code",
   "execution_count": null,
   "id": "90dc4b1a-b445-4c0d-91cd-74a392d48399",
   "metadata": {},
   "outputs": [],
   "source": [
    "conversation"
   ]
  },
  {
   "cell_type": "markdown",
   "id": "d8306736-faa4-4091-856a-9827ba11e734",
   "metadata": {},
   "source": [
    "Chatbot using Gradio"
   ]
  },
  {
   "cell_type": "code",
   "execution_count": null,
   "id": "47911424-73cf-454f-a80f-c257bf9b474f",
   "metadata": {},
   "outputs": [],
   "source": [
    "import gradio as gr\n",
    "\n",
    "message_list = []\n",
    "response_list = []\n",
    "\n",
    "def favourite_chatbot(message, history):\n",
    "    conversation = chatbot(message)\n",
    "    \n",
    "    return conversation[0]['generated_text']\n",
    "\n",
    "demo_chatbot = gr.ChatInterface(favourite_chatbot, title=\"Favourite Chatbot\", description=\"Enter text to start chatting.\")\n",
    "\n",
    "demo_chatbot.launch()"
   ]
  },
  {
   "cell_type": "code",
   "execution_count": null,
   "id": "ae22f876-7761-4f0a-a71f-5008d3129351",
   "metadata": {},
   "outputs": [],
   "source": []
  }
 ],
 "metadata": {
  "kernelspec": {
   "display_name": "Python (venv)",
   "language": "python",
   "name": "venv"
  },
  "language_info": {
   "codemirror_mode": {
    "name": "ipython",
    "version": 3
   },
   "file_extension": ".py",
   "mimetype": "text/x-python",
   "name": "python",
   "nbconvert_exporter": "python",
   "pygments_lexer": "ipython3",
   "version": "3.10.12"
  }
 },
 "nbformat": 4,
 "nbformat_minor": 5
}
